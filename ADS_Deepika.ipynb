{
 "cells": [
  {
   "cell_type": "code",
   "execution_count": null,
   "metadata": {
    "id": "rmWPYeo4VQxo"
   },
   "outputs": [],
   "source": [
    "import pandas as pd\n",
    "import matplotlib.pyplot as plt\n",
    "import numpy as np"
   ]
  },
  {
   "cell_type": "code",
   "execution_count": null,
   "metadata": {
    "id": "RUQdFdetW1aJ"
   },
   "outputs": [],
   "source": [
    "def read_worldbank_data(filename):\n",
    "    worldbank_df = pd.read_csv(filename, skiprows=4)\n",
    "    years_df = worldbank_df.T\n",
    "    years_df.columns = years_df.iloc[0]\n",
    "    years_df = years_df[1:]\n",
    "    countries_df = years_df.T\n",
    "    countries_df.reset_index(inplace=True)\n",
    "    countries_df.rename(columns={'index': 'Country Name'}, inplace=True)\n",
    "    return years_df, countries_df"
   ]
  },
  {
   "cell_type": "code",
   "execution_count": null,
   "metadata": {
    "id": "GU3E1M_ocD3z"
   },
   "outputs": [],
   "source": [
    "filename = \"C:\\\\Users\\\\deepi\\\\Downloads\\\\API_19_DS2_en_csv_v2_6224512\\API_19_DS2_en_csv_v2_6224512.csv\"\n",
    "years_data, countries_data = read_worldbank_data(filename)"
   ]
  },
  {
   "cell_type": "code",
   "execution_count": null,
   "metadata": {
    "colab": {
     "base_uri": "https://localhost:8080/",
     "height": 236
    },
    "id": "RT5f0tIqXC0l",
    "outputId": "60ed4170-8e4d-469c-a633-d4d97aa821d4"
   },
   "outputs": [],
   "source": [
    "years_data.tail()"
   ]
  },
  {
   "cell_type": "code",
   "execution_count": null,
   "metadata": {
    "id": "aCU4uKF_4B-3"
   },
   "outputs": [],
   "source": [
    "years_data = years_data.drop(years_data.index[-1])"
   ]
  },
  {
   "cell_type": "code",
   "execution_count": null,
   "metadata": {
    "colab": {
     "base_uri": "https://localhost:8080/",
     "height": 236
    },
    "id": "pu-PVjCW4EwX",
    "outputId": "c0eee2d3-c57a-4c1c-e035-f7e0f575c744"
   },
   "outputs": [],
   "source": [
    "years_data.tail()"
   ]
  },
  {
   "cell_type": "code",
   "execution_count": null,
   "metadata": {
    "colab": {
     "base_uri": "https://localhost:8080/"
    },
    "id": "bnJtGvsp4N8M",
    "outputId": "8e134c57-0882-4f3b-dffd-40fbf17ec87f"
   },
   "outputs": [],
   "source": [
    "years_data.fillna(years_data.median(), inplace=True)"
   ]
  },
  {
   "cell_type": "code",
   "execution_count": null,
   "metadata": {
    "colab": {
     "base_uri": "https://localhost:8080/",
     "height": 446
    },
    "id": "PpykdZ8pf7_E",
    "outputId": "498808c7-421a-4c3c-9aee-fbe05e71ae2a"
   },
   "outputs": [],
   "source": [
    "countries_data.head()"
   ]
  },
  {
   "cell_type": "code",
   "execution_count": null,
   "metadata": {
    "id": "bVhu6npX36B1"
   },
   "outputs": [],
   "source": [
    "countries_data = countries_data.iloc[:, :-1]"
   ]
  },
  {
   "cell_type": "code",
   "execution_count": null,
   "metadata": {
    "colab": {
     "base_uri": "https://localhost:8080/"
    },
    "id": "aeCRqA8cqZuN",
    "outputId": "bc2c2f3a-2a1a-495e-e746-ea9ec072dcc2"
   },
   "outputs": [],
   "source": [
    "countries_data.fillna(countries_data.median(), inplace=True)"
   ]
  },
  {
   "cell_type": "code",
   "execution_count": null,
   "metadata": {
    "colab": {
     "base_uri": "https://localhost:8080/",
     "height": 446
    },
    "id": "R1bAuVdQ4qLL",
    "outputId": "0b8e8eb6-a531-4984-fde6-e9d64a65e597"
   },
   "outputs": [],
   "source": [
    "countries_data.head()"
   ]
  },
  {
   "cell_type": "code",
   "execution_count": null,
   "metadata": {
    "colab": {
     "base_uri": "https://localhost:8080/"
    },
    "id": "VXaJe4E50JR9",
    "outputId": "bb3ecc97-7cc8-4a30-d1d6-f86bc6976544"
   },
   "outputs": [],
   "source": [
    "countries_data['Indicator Name'].unique()"
   ]
  },
  {
   "cell_type": "code",
   "execution_count": null,
   "metadata": {
    "colab": {
     "base_uri": "https://localhost:8080/",
     "height": 367
    },
    "id": "9IgQJp74W4cF",
    "outputId": "0514f6bd-85b3-410a-9fa5-8e37ec9fae2b"
   },
   "outputs": [],
   "source": [
    "selected_countries = ['United Kingdom', 'United States', 'China', 'India']\n",
    "filtered_data = countries_data[(countries_data['Indicator Name'] == 'Electricity production from oil sources (% of total)') & (countries_data['Country Name'].isin(selected_countries))]\n",
    "selected_columns = filtered_data.columns[4:]\n",
    "selected_data = filtered_data[selected_columns]\n",
    "summary_statistics = selected_data.describe()\n",
    "print(\"Summary Statistics for Electricity production from oil sources (% of total):\")\n",
    "summary_statistics"
   ]
  },
  {
   "cell_type": "code",
   "execution_count": null,
   "metadata": {
    "colab": {
     "base_uri": "https://localhost:8080/",
     "height": 585
    },
    "id": "7TcgbcG0Jq6v",
    "outputId": "834eb18d-c232-43b7-a9d5-5b51d4d75788"
   },
   "outputs": [],
   "source": [
    "selected_countries = ['United Kingdom', 'United States', 'China','India']\n",
    "filtered_data = countries_data[(countries_data['Indicator Name'] == 'Electricity production from oil sources (% of total)') & (countries_data['Country Name'].isin(selected_countries))]\n",
    "selected_columns = filtered_data.columns[24:-3:10]\n",
    "filtered_data.set_index('Country Name')[selected_columns].T.plot(kind='bar', figsize=(10, 6))\n",
    "plt.title('Bar Plot for Electricity production from oil sources (% of total) Since 1980')\n",
    "plt.xlabel('Years')\n",
    "plt.ylabel('Value')\n",
    "plt.legend(title='Country Name', bbox_to_anchor=(1.05, 1), loc='upper left')\n",
    "plt.show()"
   ]
  },
  {
   "cell_type": "code",
   "execution_count": null,
   "metadata": {
    "colab": {
     "base_uri": "https://localhost:8080/",
     "height": 367
    },
    "id": "WPm0UoYr5JY_",
    "outputId": "6b1f306d-d99c-4335-803d-bfbb729eeaf2"
   },
   "outputs": [],
   "source": [
    "selected_countries = ['United Kingdom', 'United States', 'China', 'India']\n",
    "filtered_data = countries_data[(countries_data['Indicator Name'] == 'Electricity production from coal sources (% of total)') & (countries_data['Country Name'].isin(selected_countries))]\n",
    "selected_columns = filtered_data.columns[4:]\n",
    "selected_data = filtered_data[selected_columns]\n",
    "summary_statistics = selected_data.describe()\n",
    "print(\"Summary Statistics for Electricity production from coal sources (% of total):\")\n",
    "summary_statistics"
   ]
  },
  {
   "cell_type": "code",
   "execution_count": null,
   "metadata": {
    "colab": {
     "base_uri": "https://localhost:8080/",
     "height": 585
    },
    "id": "DCl3gByqQENE",
    "outputId": "d4f36f63-cbac-419a-af8d-d7096e1bed87"
   },
   "outputs": [],
   "source": [
    "selected_countries = ['United Kingdom', 'United States', 'China','India']\n",
    "filtered_data = countries_data[(countries_data['Indicator Name'] == 'Electricity production from coal sources (% of total)') & (countries_data['Country Name'].isin(selected_countries))]\n",
    "selected_columns = filtered_data.columns[24:-3:10]\n",
    "filtered_data.set_index('Country Name')[selected_columns].T.plot(kind='bar', figsize=(10, 6))\n",
    "plt.title('Bar Plot for Electricity production from coal sources (% of total) Since 1980')\n",
    "plt.xlabel('Years')\n",
    "plt.ylabel('Value')\n",
    "plt.legend(title='Country Name', bbox_to_anchor=(1.05, 1), loc='upper left')\n",
    "plt.show()"
   ]
  },
  {
   "cell_type": "code",
   "execution_count": null,
   "metadata": {
    "colab": {
     "base_uri": "https://localhost:8080/",
     "height": 585
    },
    "id": "iUCYq-4sFz09",
    "outputId": "00dbf8a0-772a-4e62-db28-512a9169ca45"
   },
   "outputs": [],
   "source": [
    "selected_countries = ['United Kingdom', 'United States', 'China','India']\n",
    "filtered_data = countries_data[(countries_data['Indicator Name'] == 'Electricity production from nuclear sources (% of total)') & (countries_data['Country Name'].isin(selected_countries))]\n",
    "selected_columns = filtered_data.columns[24:-3:10]\n",
    "filtered_data.set_index('Country Name')[selected_columns].T.plot(kind='bar', figsize=(10, 6))\n",
    "plt.title('Bar Plot for Electricity production from nuclear sources (% of total) Since 1980')\n",
    "plt.xlabel('Years')\n",
    "plt.ylabel('Value')\n",
    "plt.legend(title='Country Name', bbox_to_anchor=(1.05, 1), loc='upper left')\n",
    "plt.show()"
   ]
  },
  {
   "cell_type": "code",
   "execution_count": null,
   "metadata": {
    "colab": {
     "base_uri": "https://localhost:8080/",
     "height": 585
    },
    "id": "Ukg0U7exxLfk",
    "outputId": "73cb2e07-1fac-40b6-f0e4-a38012742261"
   },
   "outputs": [],
   "source": [
    "selected_countries = ['United Kingdom', 'United States', 'China','India']\n",
    "filtered_data = countries_data[(countries_data['Indicator Name'] == 'Electricity production from natural gas sources (% of total)') & (countries_data['Country Name'].isin(selected_countries))]\n",
    "selected_columns = filtered_data.columns[24:-3:10]\n",
    "filtered_data.set_index('Country Name')[selected_columns].T.plot(kind='bar', figsize=(10, 6))\n",
    "plt.title('Bar Plot for Electricity production from natural gas sources (% of total) Since 1980')\n",
    "plt.xlabel('Years')\n",
    "plt.ylabel('Value')\n",
    "plt.legend(title='Country Name', bbox_to_anchor=(1.05, 1), loc='upper left')\n",
    "plt.show()"
   ]
  },
  {
   "cell_type": "code",
   "execution_count": null,
   "metadata": {
    "colab": {
     "base_uri": "https://localhost:8080/",
     "height": 585
    },
    "id": "VniFiuV1xn9Z",
    "outputId": "ddc7b122-040b-416b-c62f-f736d05c32bf"
   },
   "outputs": [],
   "source": [
    "selected_countries = ['United Kingdom', 'United States', 'China','India']\n",
    "filtered_data = countries_data[(countries_data['Indicator Name'] == 'Electricity production from hydroelectric sources (% of total)') & (countries_data['Country Name'].isin(selected_countries))]\n",
    "selected_columns = filtered_data.columns[24:-3:10]\n",
    "filtered_data.set_index('Country Name')[selected_columns].T.plot(kind='bar', figsize=(10, 6))\n",
    "plt.title('Bar Plot for Electricity production from hydroelectric sources (% of total) Since 1980')\n",
    "plt.xlabel('Years')\n",
    "plt.ylabel('Value')\n",
    "plt.legend(title='Country Name', bbox_to_anchor=(1.05, 1), loc='upper left')\n",
    "plt.show()"
   ]
  },
  {
   "cell_type": "code",
   "execution_count": null,
   "metadata": {
    "id": "RI-upqhI5r7u"
   },
   "outputs": [],
   "source": [
    "selected_indicators = [\n",
    "    'Electricity production from oil sources (% of total)',\n",
    "    'Electricity production from nuclear sources (% of total)',\n",
    "    'Electricity production from natural gas sources (% of total)',\n",
    "    'Electricity production from hydroelectric sources (% of total)',\n",
    "    'Electricity production from coal sources (% of total)']\n",
    "\n",
    "source_names = {\n",
    "    'Electricity production from oil sources (% of total)': 'Oil Sources',\n",
    "    'Electricity production from nuclear sources (% of total)': 'Nuclear Sources',\n",
    "    'Electricity production from natural gas sources (% of total)': 'Natural Gas Sources',\n",
    "    'Electricity production from hydroelectric sources (% of total)': 'Hydroelectric Sources',\n",
    "    'Electricity production from coal sources (% of total)': 'Coal Sources'}"
   ]
  },
  {
   "cell_type": "code",
   "execution_count": null,
   "metadata": {
    "colab": {
     "base_uri": "https://localhost:8080/",
     "height": 581
    },
    "id": "pfKFfbuwydIY",
    "outputId": "837ed131-c6b7-451f-a754-044e6074cd87"
   },
   "outputs": [],
   "source": [
    "selected_data = countries_data[(countries_data['Country Name'] == 'United Kingdom') & (countries_data['Indicator Name'].isin(selected_indicators))]\n",
    "year1980_column = selected_data.iloc[:, 24].values\n",
    "year2015_column = selected_data.iloc[:, -8].values\n",
    "fig, axes = plt.subplots(1, 2, figsize=(12, 6))\n",
    "wedges_1980, texts_1980, autotexts_1980 = axes[0].pie(year1980_column, autopct='%1.1f%%', startangle=140, labels=[source_names[indicator] for indicator in selected_indicators])\n",
    "axes[0].set_title('Electricity Production Composition in 1980')\n",
    "wedges_2015, texts_2015, autotexts_2015 = axes[1].pie(year2015_column, autopct='%1.1f%%', startangle=140, labels=[source_names[indicator] for indicator in selected_indicators])\n",
    "axes[1].set_title('Electricity Production Composition in 2015')\n",
    "plt.suptitle('% of Electricity Production from Different Sources in United Kingdom', fontsize=16, y=1.05)\n",
    "plt.show()"
   ]
  },
  {
   "cell_type": "code",
   "execution_count": null,
   "metadata": {
    "colab": {
     "base_uri": "https://localhost:8080/",
     "height": 581
    },
    "id": "A4zH-xnq1A4y",
    "outputId": "5d240917-f7a0-4f38-8b13-0ee508d45f4e"
   },
   "outputs": [],
   "source": [
    "selected_data = countries_data[(countries_data['Country Name'] == 'India') & (countries_data['Indicator Name'].isin(selected_indicators))]\n",
    "year1980_column = selected_data.iloc[:, 24].values\n",
    "year2015_column = selected_data.iloc[:, -8].values\n",
    "fig, axes = plt.subplots(1, 2, figsize=(12, 6))\n",
    "wedges_1980, texts_1980, autotexts_1980 = axes[0].pie(year1980_column, autopct='%1.1f%%', startangle=140, labels=[source_names[indicator] for indicator in selected_indicators])\n",
    "axes[0].set_title('Electricity Production Composition in 1980')\n",
    "wedges_2015, texts_2015, autotexts_2015 = axes[1].pie(year2015_column, autopct='%1.1f%%', startangle=140, labels=[source_names[indicator] for indicator in selected_indicators])\n",
    "axes[1].set_title('Electricity Production Composition in 2015')\n",
    "plt.suptitle('% of Electricity Production from Different Sources in India', fontsize=16, y=1.05)\n",
    "plt.show()"
   ]
  },
  {
   "cell_type": "code",
   "execution_count": null,
   "metadata": {
    "colab": {
     "base_uri": "https://localhost:8080/",
     "height": 581
    },
    "id": "CM6fHREt57j8",
    "outputId": "330c8fe2-0eeb-4cb9-c106-3b0b1cb7d13e"
   },
   "outputs": [],
   "source": [
    "selected_data = countries_data[(countries_data['Country Name'] == 'United States') & (countries_data['Indicator Name'].isin(selected_indicators))]\n",
    "year1980_column = selected_data.iloc[:, 24].values\n",
    "year2015_column = selected_data.iloc[:, -8].values\n",
    "fig, axes = plt.subplots(1, 2, figsize=(12, 6))\n",
    "wedges_1980, texts_1980, autotexts_1980 = axes[0].pie(year1980_column, autopct='%1.1f%%', startangle=140, labels=[source_names[indicator] for indicator in selected_indicators])\n",
    "axes[0].set_title('Electricity Production Composition in 1980')\n",
    "wedges_2015, texts_2015, autotexts_2015 = axes[1].pie(year2015_column, autopct='%1.1f%%', startangle=140, labels=[source_names[indicator] for indicator in selected_indicators])\n",
    "axes[1].set_title('Electricity Production Composition in 2015')\n",
    "plt.suptitle('% of Electricity Production from Different Sources in United States', fontsize=16, y=1.05)\n",
    "plt.show()"
   ]
  },
  {
   "cell_type": "code",
   "execution_count": null,
   "metadata": {
    "colab": {
     "base_uri": "https://localhost:8080/",
     "height": 581
    },
    "id": "Ct4inDm76VpZ",
    "outputId": "1dc4dc25-5609-43d8-9255-52deadbcfe5f"
   },
   "outputs": [],
   "source": [
    "selected_data = countries_data[(countries_data['Country Name'] == 'China') & (countries_data['Indicator Name'].isin(selected_indicators))]\n",
    "year1980_column = selected_data.iloc[:, 24].values\n",
    "year2015_column = selected_data.iloc[:, -8].values\n",
    "fig, axes = plt.subplots(1, 2, figsize=(12, 6))\n",
    "wedges_1980, texts_1980, autotexts_1980 = axes[0].pie(year1980_column, autopct='%1.1f%%', startangle=140, labels=[source_names[indicator] for indicator in selected_indicators])\n",
    "axes[0].set_title('Electricity Production Composition in 1980')\n",
    "wedges_2015, texts_2015, autotexts_2015 = axes[1].pie(year2015_column, autopct='%1.1f%%', startangle=140, labels=[source_names[indicator] for indicator in selected_indicators])\n",
    "axes[1].set_title('Electricity Production Composition in 2015')\n",
    "plt.suptitle('% of Electricity Production from Different Sources in China', fontsize=16, y=1.05)\n",
    "plt.show()"
   ]
  },
  {
   "cell_type": "code",
   "execution_count": null,
   "metadata": {
    "id": "Ia22XE7y6cmO"
   },
   "outputs": [],
   "source": [
    "import seaborn as sns\n",
    "\n",
    "indicators_to_plot = [\n",
    "    'Electricity production from oil sources (% of total)',\n",
    "    'Electricity production from nuclear sources (% of total)',\n",
    "    'Electricity production from natural gas sources (% of total)',\n",
    "    'Electricity production from hydroelectric sources (% of total)',\n",
    "    'Electricity production from coal sources (% of total)',\n",
    "    'Access to electricity (% of population)',\n",
    "    'Population growth (annual %)',\n",
    "    'SF6 gas emissions (thousand metric tons of CO2 equivalent)',\n",
    "    'PFC gas emissions (thousand metric tons of CO2 equivalent)']\n",
    "\n",
    "uk_data = countries_data[(countries_data['Country Name'] == 'United Kingdom') & (countries_data['Indicator Name'].isin(indicators_to_plot))]\n",
    "\n",
    "heatmap_data = uk_data.set_index(['Indicator Name']).iloc[:, 4:].transpose()\n",
    "plt.figure(figsize=(10, 8))\n",
    "sns.heatmap(heatmap_data.corr(), annot=True, cmap='coolwarm', fmt='.2f', linewidths=.5)\n",
    "plt.title('Correlation Heatmap for Indicators in the United Kingdom')\n",
    "plt.show()"
   ]
  },
  {
   "cell_type": "code",
   "execution_count": null,
   "metadata": {
    "colab": {
     "base_uri": "https://localhost:8080/",
     "height": 1000
    },
    "id": "mQrTqhyf4Xh9",
    "outputId": "b0afeefa-eb4e-410e-bbb8-78528ce027ac"
   },
   "outputs": [],
   "source": [
    "uk_data = countries_data[(countries_data['Country Name'] == 'United Kingdom') & (countries_data['Indicator Name'].isin(indicators_to_plot))]\n",
    "\n",
    "heatmap_data = uk_data.set_index(['Indicator Name']).iloc[:, 4:].transpose()\n",
    "plt.figure(figsize=(10, 8))\n",
    "sns.heatmap(heatmap_data.corr(), annot=True, cmap='coolwarm', fmt='.2f', linewidths=.5)\n",
    "plt.title('Correlation Heatmap for Indicators in the United Kingdom')\n",
    "plt.show()"
   ]
  },
  {
   "cell_type": "code",
   "execution_count": null,
   "metadata": {
    "colab": {
     "base_uri": "https://localhost:8080/",
     "height": 1000
    },
    "id": "0u6AOSN20O0I",
    "outputId": "ed23f4b1-2ff5-4a56-90e5-d9d349dabb37"
   },
   "outputs": [],
   "source": [
    "us_data = countries_data[(countries_data['Country Name'] == 'United States') & (countries_data['Indicator Name'].isin(indicators_to_plot))]\n",
    "\n",
    "heatmap_data = us_data.set_index(['Indicator Name']).iloc[:, 4:].transpose()\n",
    "plt.figure(figsize=(10, 8))\n",
    "sns.heatmap(heatmap_data.corr(), annot=True, cmap='coolwarm', fmt='.2f', linewidths=.5)\n",
    "plt.title('Correlation Heatmap for Indicators in the United States')\n",
    "plt.show()"
   ]
  },
  {
   "cell_type": "code",
   "execution_count": null,
   "metadata": {
    "id": "MgFnE1Nj0mbn"
   },
   "outputs": [],
   "source": []
  }
 ],
 "metadata": {
  "accelerator": "GPU",
  "colab": {
   "gpuType": "T4",
   "provenance": []
  },
  "kernelspec": {
   "display_name": "Python 3 (ipykernel)",
   "language": "python",
   "name": "python3"
  },
  "language_info": {
   "codemirror_mode": {
    "name": "ipython",
    "version": 3
   },
   "file_extension": ".py",
   "mimetype": "text/x-python",
   "name": "python",
   "nbconvert_exporter": "python",
   "pygments_lexer": "ipython3",
   "version": "3.11.5"
  }
 },
 "nbformat": 4,
 "nbformat_minor": 1
}
